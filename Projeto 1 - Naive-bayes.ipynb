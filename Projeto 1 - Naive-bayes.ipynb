{
 "cells": [
  {
   "cell_type": "code",
   "execution_count": null,
   "metadata": {},
   "outputs": [],
   "source": [
    "import pandas as pd\n",
    "import numpy as np\n",
    "from IPython.display import display\n",
    "pd.options.display.max_rows = 13"
   ]
  },
  {
   "cell_type": "code",
   "execution_count": null,
   "metadata": {},
   "outputs": [],
   "source": [
    "import re \n",
    "import sys\n",
    "\n",
    "def cleanup(text):\n",
    "    \"\"\"\n",
    "        Função de limpeza muito simples que troca alguns sinais básicos por espaços\n",
    "    \"\"\"\n",
    "    #import string\n",
    "    punctuation = '[!-.:?;]' # Note que os sinais [] são delimitadores de um conjunto.\n",
    "    pattern = re.compile(punctuation)\n",
    "    text_subbed = re.sub(pattern, '', text)\n",
    "    return text_subbed\n",
    "\n",
    "def remove_emoji(string):\n",
    "    emoji_pattern = re.compile(\"[\"\n",
    "                               u\"\\U0001F600-\\U0001F64F\"  # emoticons\n",
    "                               u\"\\U0001F300-\\U0001F5FF\"  # symbols & pictographs\n",
    "                               u\"\\U0001F680-\\U0001F6FF\"  # transport & map symbols\n",
    "                               u\"\\U0001F1E0-\\U0001F1FF\"  # flags (iOS)\n",
    "                               u\"\\U00002500-\\U00002BEF\"  # chinese char\n",
    "                               u\"\\U00002702-\\U000027B0\"\n",
    "                               u\"\\U00002702-\\U000027B0\"\n",
    "                               u\"\\U000024C2-\\U0001F251\"\n",
    "                               u\"\\U0001f926-\\U0001f937\"\n",
    "                               u\"\\U00010000-\\U0010ffff\"\n",
    "                               u\"\\u2640-\\u2642\"\n",
    "                               u\"\\u2600-\\u2B55\"\n",
    "                               u\"\\u200d\"\n",
    "                               u\"\\u23cf\"\n",
    "                               u\"\\u23e9\"\n",
    "                               u\"\\u231a\"\n",
    "                               u\"\\ufe0f\"  # dingbats\n",
    "                               u\"\\u3030\"\n",
    "                               \"]+\", flags=re.UNICODE)\n",
    "    return emoji_pattern.sub(r'', string)\n",
    "\n",
    "def remove_arroba(lista):\n",
    "    arroba = \"@\"\n",
    "    for i in lista: \n",
    "        if arroba in i:\n",
    "            lista.remove(i)\n",
    "    return lista\n",
    "def remove_link(lista):\n",
    "    link = \"/\"\n",
    "    for i in lista: \n",
    "        if link in i:\n",
    "            lista.remove(i)\n",
    "    return lista"
   ]
  },
  {
   "cell_type": "code",
   "execution_count": null,
   "metadata": {},
   "outputs": [],
   "source": [
    "dados = pd.read_excel('Iphone_CDados.xlsx')"
   ]
  },
  {
   "cell_type": "code",
   "execution_count": null,
   "metadata": {},
   "outputs": [],
   "source": [
    "dados"
   ]
  },
  {
   "cell_type": "code",
   "execution_count": 36,
   "metadata": {},
   "outputs": [],
   "source": [
    "Relevante = dados[\"Filtro\"].isin([\"1\"])\n",
    "Irrelevante = dados[\"Filtro\"].isin([\"0\"])\n",
    "Relevante = dados.loc[Relevante, :]\n",
    "Irrelevante = dados.loc[Irrelevante, :]"
   ]
  },
  {
   "cell_type": "code",
   "execution_count": 37,
   "metadata": {},
   "outputs": [],
   "source": [
    "#limpando texto e fazendo lista\n",
    "\n",
    "Treino_Relevante = Relevante[\"Treinamento\"]\n",
    "Treino_Irrelevante = Irrelevante[\"Treinamento\"]\n",
    "\n",
    "def make_list(Treino_Relevante):\n",
    "    \n",
    "    treinamento_relevante = []\n",
    "\n",
    "    #fazendo lista\n",
    "    for i in Treino_Relevante:\n",
    "        treinamento_relevante.append(i)\n",
    "    \n",
    "    coma = \"'\"\n",
    "    #transformar em texto\n",
    "    treinamento_relevante = coma.join(treinamento_relevante)\n",
    "\n",
    "    #função que limpa\n",
    "    limpa = cleanup(treinamento_relevante)\n",
    "    no_emoji = remove_emoji(limpa)\n",
    "\n",
    "    #lista por palavra\n",
    "    minusculo = no_emoji.lower()\n",
    "    palavras_relevantes = minusculo.split()\n",
    "\n",
    "    lista = remove_arroba(palavras_relevantes)\n",
    "    lista = remove_link(lista)\n",
    "    \n",
    "    return lista\n",
    "\n",
    "todas_palavras_relevantes = make_list(Treino_Relevante)\n",
    "todas_palavras_irrelevantes = make_list(Treino_Irrelevante)"
   ]
  },
  {
   "cell_type": "code",
   "execution_count": 38,
   "metadata": {},
   "outputs": [],
   "source": [
    "#pdSeries\n",
    "serie_relevante = pd.Series(todas_palavras_relevantes)\n",
    "serie_irrelevante = pd.Series(todas_palavras_irrelevantes)"
   ]
  },
  {
   "cell_type": "code",
   "execution_count": 48,
   "metadata": {},
   "outputs": [],
   "source": [
    "#tabelas frequencia relativas\n",
    "tabela_relevantes = serie_relevante.value_counts()\n",
    "tabela_irrelevantes = serie_irrelevante.value_counts()\n",
    "Nr = sum(tabela_relevantes)\n",
    "Ni = sum(tabela_irrelevantes)"
   ]
  },
  {
   "cell_type": "code",
   "execution_count": null,
   "metadata": {},
   "outputs": [],
   "source": [
    "def limpa(tweet):\n",
    "    pri = cleanup(tweet)\n",
    "    seg = remove_emoji(pri)\n",
    "    tri = remove_arroba(seg)\n",
    "    cua = remove_link(tri)\n",
    "    \n",
    "    return cua"
   ]
  },
  {
   "cell_type": "code",
   "execution_count": 1,
   "metadata": {},
   "outputs": [],
   "source": [
    "#P(frase/relevante)\n",
    "def P_tweet_dado_relevante(lista):\n",
    "    \n",
    "    prob_tweet_dado_relevante = 1\n",
    "    alpha = 1\n",
    "    V = 100000\n",
    "    prob_tweets = []\n",
    "    \n",
    "    for tweet in lista:\n",
    "        \n",
    "        \n",
    "        prob_tweet_dado_relevante = 1\n",
    "        tweet_minusculo = tweet.lower()\n",
    "        tweet_limpo = limpa(tweet_minusculo) \n",
    "        lista_limpo = tweet_limpo.split()\n",
    "    \n",
    "        for palavra in lista_limpo:\n",
    "        \n",
    "            if palavra in tabela_relevantes:\n",
    "                prob_palavra_dado_relevante = (tabela_relevantes[palavra] + alpha)/ (Ni+(V * alpha))\n",
    "        \n",
    "            else:\n",
    "            \n",
    "                prob_palavra_dado_relevante = alpha/(Ni + (alpha * V))\n",
    "            \n",
    "            prob_tweet_dado_relevante *= prob_palavra_dado_relevante\n",
    "        \n",
    "        prob_tweets.append(prob_tweet_dado_relevante)\n",
    "        \n",
    "    return prob_tweets\n",
    "\n",
    "\n",
    "#P(frase/irrelevante)\n",
    "def P_tweet_dado_irrelevante(lista):\n",
    "    \n",
    "    prob_tweet_dado_irrelevante = 1\n",
    "    alpha = 1\n",
    "    V = 100000\n",
    "    \n",
    "    prob_tweets = []\n",
    "    \n",
    "    for tweet in lista:\n",
    "        \n",
    "        \n",
    "        prob_tweet_dado_irrelevante = 1\n",
    "        tweet_minusculo = tweet.lower()\n",
    "        tweet_limpo = limpa(tweet_minusculo)\n",
    "        lista_limpo = tweet_limpo.split()\n",
    "        \n",
    "        for palavra in lista_limpo:\n",
    "        \n",
    "            if palavra in tabela_irrelevantes:\n",
    "                prob_palavra_dado_irrelevante = (tabela_irrelevantes[palavra] + alpha)/ (Ni+(V * alpha))\n",
    "        \n",
    "            else:\n",
    "            \n",
    "                prob_palavra_dado_irrelevante = alpha/(Ni + (alpha * V))\n",
    "            \n",
    "            prob_tweet_dado_irrelevante *= prob_palavra_dado_irrelevante\n",
    "        \n",
    "        prob_tweets.append(prob_tweet_dado_irrelevante)\n",
    "        \n",
    "    return prob_tweets\n",
    "\n",
    "    "
   ]
  },
  {
   "cell_type": "code",
   "execution_count": 58,
   "metadata": {},
   "outputs": [],
   "source": []
  },
  {
   "cell_type": "code",
   "execution_count": null,
   "metadata": {},
   "outputs": [],
   "source": []
  },
  {
   "cell_type": "code",
   "execution_count": null,
   "metadata": {},
   "outputs": [],
   "source": []
  }
 ],
 "metadata": {
  "kernelspec": {
   "display_name": "Python 3",
   "language": "python",
   "name": "python3"
  },
  "language_info": {
   "codemirror_mode": {
    "name": "ipython",
    "version": 3
   },
   "file_extension": ".py",
   "mimetype": "text/x-python",
   "name": "python",
   "nbconvert_exporter": "python",
   "pygments_lexer": "ipython3",
   "version": "3.7.4"
  }
 },
 "nbformat": 4,
 "nbformat_minor": 2
}
